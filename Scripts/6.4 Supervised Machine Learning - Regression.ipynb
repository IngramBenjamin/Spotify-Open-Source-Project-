{
 "cells": [
  {
   "cell_type": "markdown",
   "id": "d649a76b",
   "metadata": {},
   "source": [
    "# 6.4 Supervised Machine Learning - Regression\n",
    "\n",
    "### This script contains the following:\n",
    "\n",
    "#### 1. Importing libraries and data\n",
    "\n",
    "#### 2. Data cleaning\n",
    "\n",
    "#### 3. Data prep for regression analysis\n",
    "\n",
    "#### 4. Regression analysis"
   ]
  },
  {
   "cell_type": "markdown",
   "id": "bf2b08dc",
   "metadata": {},
   "source": [
    "# 1. Importing libraries and data"
   ]
  },
  {
   "cell_type": "code",
   "execution_count": 1,
   "id": "87b9b8b5",
   "metadata": {},
   "outputs": [],
   "source": [
    "import pandas as pd\n",
    "import numpy as np\n",
    "import seaborn as sns\n",
    "import matplotlib\n",
    "import matplotlib.pyplot as plt\n",
    "import os\n",
    "import sklearn\n",
    "from sklearn.model_selection import train_test_split \n",
    "from sklearn.linear_model import LinearRegression\n",
    "from sklearn.metrics import mean_squared_error, r2_score"
   ]
  },
  {
   "cell_type": "code",
   "execution_count": 2,
   "id": "e4040384",
   "metadata": {},
   "outputs": [],
   "source": [
    "# This option ensures that the graphs you create are displayed within the notebook without the need to \"call\" them specifically.\n",
    "\n",
    "%matplotlib inline"
   ]
  },
  {
   "cell_type": "code",
   "execution_count": 3,
   "id": "0a04b4c2",
   "metadata": {},
   "outputs": [],
   "source": [
    "# Define path\n",
    "\n",
    "path = r\"C:\\Users\\maple\\OneDrive\\Desktop\\CareerFoundry\\Open Source Project\""
   ]
  },
  {
   "cell_type": "code",
   "execution_count": 4,
   "id": "1ba43189",
   "metadata": {},
   "outputs": [],
   "source": [
    "# Import data\n",
    "\n",
    "df = pd.read_csv(os.path.join(path,'Data','Prepared Data', 'spotify_clean.csv'), index_col = False)"
   ]
  },
  {
   "cell_type": "code",
   "execution_count": 5,
   "id": "21c1da05",
   "metadata": {},
   "outputs": [
    {
     "data": {
      "text/html": [
       "<div>\n",
       "<style scoped>\n",
       "    .dataframe tbody tr th:only-of-type {\n",
       "        vertical-align: middle;\n",
       "    }\n",
       "\n",
       "    .dataframe tbody tr th {\n",
       "        vertical-align: top;\n",
       "    }\n",
       "\n",
       "    .dataframe thead th {\n",
       "        text-align: right;\n",
       "    }\n",
       "</style>\n",
       "<table border=\"1\" class=\"dataframe\">\n",
       "  <thead>\n",
       "    <tr style=\"text-align: right;\">\n",
       "      <th></th>\n",
       "      <th>Unnamed: 0</th>\n",
       "      <th>song_id</th>\n",
       "      <th>rank</th>\n",
       "      <th>artist_names</th>\n",
       "      <th>number_of_artists</th>\n",
       "      <th>artist_individual</th>\n",
       "      <th>artist_genre</th>\n",
       "      <th>collab</th>\n",
       "      <th>track_name</th>\n",
       "      <th>release_date</th>\n",
       "      <th>number_of_album_tracks</th>\n",
       "      <th>record_label</th>\n",
       "      <th>peak_rank</th>\n",
       "      <th>previous_rank</th>\n",
       "      <th>weeks_on_chart</th>\n",
       "      <th>weekly_streams</th>\n",
       "      <th>week</th>\n",
       "      <th>danceability</th>\n",
       "      <th>energy</th>\n",
       "      <th>key</th>\n",
       "      <th>mode</th>\n",
       "      <th>loudness</th>\n",
       "      <th>speechiness</th>\n",
       "      <th>acousticness</th>\n",
       "      <th>instrumentalness</th>\n",
       "      <th>liveness</th>\n",
       "      <th>valence</th>\n",
       "      <th>tempo</th>\n",
       "      <th>duration</th>\n",
       "      <th>country</th>\n",
       "      <th>region</th>\n",
       "      <th>language</th>\n",
       "    </tr>\n",
       "  </thead>\n",
       "  <tbody>\n",
       "    <tr>\n",
       "      <th>0</th>\n",
       "      <td>0</td>\n",
       "      <td>0</td>\n",
       "      <td>1</td>\n",
       "      <td>Paulo Londra</td>\n",
       "      <td>1</td>\n",
       "      <td>Paulo Londra</td>\n",
       "      <td>argentine hip hop</td>\n",
       "      <td>False</td>\n",
       "      <td>Plan A</td>\n",
       "      <td>2022-03-23</td>\n",
       "      <td>1</td>\n",
       "      <td>WEA Latina</td>\n",
       "      <td>1</td>\n",
       "      <td>1.0</td>\n",
       "      <td>4</td>\n",
       "      <td>3003411</td>\n",
       "      <td>2022-04-14</td>\n",
       "      <td>0.583</td>\n",
       "      <td>0.834</td>\n",
       "      <td>0</td>\n",
       "      <td>1</td>\n",
       "      <td>-4.875</td>\n",
       "      <td>0.0444</td>\n",
       "      <td>0.0495</td>\n",
       "      <td>0.000000</td>\n",
       "      <td>0.0658</td>\n",
       "      <td>0.557</td>\n",
       "      <td>173.935</td>\n",
       "      <td>178203</td>\n",
       "      <td>Argentina</td>\n",
       "      <td>South America</td>\n",
       "      <td>Spanish</td>\n",
       "    </tr>\n",
       "    <tr>\n",
       "      <th>1</th>\n",
       "      <td>1</td>\n",
       "      <td>1</td>\n",
       "      <td>2</td>\n",
       "      <td>WOS</td>\n",
       "      <td>1</td>\n",
       "      <td>WOS</td>\n",
       "      <td>argentine indie</td>\n",
       "      <td>False</td>\n",
       "      <td>ARRANCARMELO</td>\n",
       "      <td>2022-04-06</td>\n",
       "      <td>1</td>\n",
       "      <td>DOGUITO Records / DALE PLAY Records</td>\n",
       "      <td>2</td>\n",
       "      <td>129.0</td>\n",
       "      <td>2</td>\n",
       "      <td>2512175</td>\n",
       "      <td>2022-04-14</td>\n",
       "      <td>0.654</td>\n",
       "      <td>0.354</td>\n",
       "      <td>5</td>\n",
       "      <td>1</td>\n",
       "      <td>-7.358</td>\n",
       "      <td>0.0738</td>\n",
       "      <td>0.7240</td>\n",
       "      <td>0.000000</td>\n",
       "      <td>0.1340</td>\n",
       "      <td>0.262</td>\n",
       "      <td>81.956</td>\n",
       "      <td>183547</td>\n",
       "      <td>Argentina</td>\n",
       "      <td>South America</td>\n",
       "      <td>Spanish</td>\n",
       "    </tr>\n",
       "    <tr>\n",
       "      <th>2</th>\n",
       "      <td>2</td>\n",
       "      <td>2</td>\n",
       "      <td>3</td>\n",
       "      <td>Paulo Londra</td>\n",
       "      <td>1</td>\n",
       "      <td>Paulo Londra</td>\n",
       "      <td>argentine hip hop</td>\n",
       "      <td>False</td>\n",
       "      <td>Chance</td>\n",
       "      <td>2022-04-06</td>\n",
       "      <td>2</td>\n",
       "      <td>WEA Latina</td>\n",
       "      <td>3</td>\n",
       "      <td>59.0</td>\n",
       "      <td>2</td>\n",
       "      <td>2408983</td>\n",
       "      <td>2022-04-14</td>\n",
       "      <td>0.721</td>\n",
       "      <td>0.463</td>\n",
       "      <td>1</td>\n",
       "      <td>0</td>\n",
       "      <td>-9.483</td>\n",
       "      <td>0.0646</td>\n",
       "      <td>0.2410</td>\n",
       "      <td>0.000000</td>\n",
       "      <td>0.0929</td>\n",
       "      <td>0.216</td>\n",
       "      <td>137.915</td>\n",
       "      <td>204003</td>\n",
       "      <td>Argentina</td>\n",
       "      <td>South America</td>\n",
       "      <td>Spanish</td>\n",
       "    </tr>\n",
       "    <tr>\n",
       "      <th>3</th>\n",
       "      <td>3</td>\n",
       "      <td>3</td>\n",
       "      <td>5</td>\n",
       "      <td>Cris Mj</td>\n",
       "      <td>1</td>\n",
       "      <td>Cris Mj</td>\n",
       "      <td>urbano chileno</td>\n",
       "      <td>False</td>\n",
       "      <td>Una Noche en Medellín</td>\n",
       "      <td>2022-01-21</td>\n",
       "      <td>1</td>\n",
       "      <td>Nabru Records LLC</td>\n",
       "      <td>5</td>\n",
       "      <td>5.0</td>\n",
       "      <td>8</td>\n",
       "      <td>2080139</td>\n",
       "      <td>2022-04-14</td>\n",
       "      <td>0.870</td>\n",
       "      <td>0.548</td>\n",
       "      <td>10</td>\n",
       "      <td>0</td>\n",
       "      <td>-5.253</td>\n",
       "      <td>0.0770</td>\n",
       "      <td>0.0924</td>\n",
       "      <td>0.000046</td>\n",
       "      <td>0.0534</td>\n",
       "      <td>0.832</td>\n",
       "      <td>96.018</td>\n",
       "      <td>153750</td>\n",
       "      <td>Argentina</td>\n",
       "      <td>South America</td>\n",
       "      <td>Spanish</td>\n",
       "    </tr>\n",
       "    <tr>\n",
       "      <th>4</th>\n",
       "      <td>4</td>\n",
       "      <td>4</td>\n",
       "      <td>6</td>\n",
       "      <td>Emilia</td>\n",
       "      <td>1</td>\n",
       "      <td>Emilia</td>\n",
       "      <td>pop argentino</td>\n",
       "      <td>False</td>\n",
       "      <td>cuatro veinte</td>\n",
       "      <td>2022-03-24</td>\n",
       "      <td>1</td>\n",
       "      <td>Sony Music Latin</td>\n",
       "      <td>6</td>\n",
       "      <td>9.0</td>\n",
       "      <td>3</td>\n",
       "      <td>1923270</td>\n",
       "      <td>2022-04-14</td>\n",
       "      <td>0.761</td>\n",
       "      <td>0.696</td>\n",
       "      <td>7</td>\n",
       "      <td>0</td>\n",
       "      <td>-3.817</td>\n",
       "      <td>0.0505</td>\n",
       "      <td>0.0811</td>\n",
       "      <td>0.000063</td>\n",
       "      <td>0.1010</td>\n",
       "      <td>0.501</td>\n",
       "      <td>95.066</td>\n",
       "      <td>133895</td>\n",
       "      <td>Argentina</td>\n",
       "      <td>South America</td>\n",
       "      <td>Spanish</td>\n",
       "    </tr>\n",
       "  </tbody>\n",
       "</table>\n",
       "</div>"
      ],
      "text/plain": [
       "   Unnamed: 0  song_id  rank  artist_names  number_of_artists  \\\n",
       "0           0        0     1  Paulo Londra                  1   \n",
       "1           1        1     2           WOS                  1   \n",
       "2           2        2     3  Paulo Londra                  1   \n",
       "3           3        3     5       Cris Mj                  1   \n",
       "4           4        4     6        Emilia                  1   \n",
       "\n",
       "  artist_individual       artist_genre  collab             track_name  \\\n",
       "0      Paulo Londra  argentine hip hop   False                 Plan A   \n",
       "1               WOS    argentine indie   False           ARRANCARMELO   \n",
       "2      Paulo Londra  argentine hip hop   False                 Chance   \n",
       "3           Cris Mj     urbano chileno   False  Una Noche en Medellín   \n",
       "4            Emilia      pop argentino   False          cuatro veinte   \n",
       "\n",
       "  release_date  number_of_album_tracks                         record_label  \\\n",
       "0   2022-03-23                       1                           WEA Latina   \n",
       "1   2022-04-06                       1  DOGUITO Records / DALE PLAY Records   \n",
       "2   2022-04-06                       2                           WEA Latina   \n",
       "3   2022-01-21                       1                    Nabru Records LLC   \n",
       "4   2022-03-24                       1                     Sony Music Latin   \n",
       "\n",
       "   peak_rank  previous_rank  weeks_on_chart  weekly_streams        week  \\\n",
       "0          1            1.0               4         3003411  2022-04-14   \n",
       "1          2          129.0               2         2512175  2022-04-14   \n",
       "2          3           59.0               2         2408983  2022-04-14   \n",
       "3          5            5.0               8         2080139  2022-04-14   \n",
       "4          6            9.0               3         1923270  2022-04-14   \n",
       "\n",
       "   danceability  energy  key  mode  loudness  speechiness  acousticness  \\\n",
       "0         0.583   0.834    0     1    -4.875       0.0444        0.0495   \n",
       "1         0.654   0.354    5     1    -7.358       0.0738        0.7240   \n",
       "2         0.721   0.463    1     0    -9.483       0.0646        0.2410   \n",
       "3         0.870   0.548   10     0    -5.253       0.0770        0.0924   \n",
       "4         0.761   0.696    7     0    -3.817       0.0505        0.0811   \n",
       "\n",
       "   instrumentalness  liveness  valence    tempo  duration    country  \\\n",
       "0          0.000000    0.0658    0.557  173.935    178203  Argentina   \n",
       "1          0.000000    0.1340    0.262   81.956    183547  Argentina   \n",
       "2          0.000000    0.0929    0.216  137.915    204003  Argentina   \n",
       "3          0.000046    0.0534    0.832   96.018    153750  Argentina   \n",
       "4          0.000063    0.1010    0.501   95.066    133895  Argentina   \n",
       "\n",
       "          region language  \n",
       "0  South America  Spanish  \n",
       "1  South America  Spanish  \n",
       "2  South America  Spanish  \n",
       "3  South America  Spanish  \n",
       "4  South America  Spanish  "
      ]
     },
     "execution_count": 5,
     "metadata": {},
     "output_type": "execute_result"
    }
   ],
   "source": [
    "pd.set_option('display.max_columns', None)\n",
    "df.head()"
   ]
  },
  {
   "cell_type": "code",
   "execution_count": 6,
   "id": "32e13551",
   "metadata": {},
   "outputs": [],
   "source": [
    "# Dropping unecessary columns\n",
    "df = df.drop(columns = ['Unnamed: 0'])"
   ]
  },
  {
   "cell_type": "code",
   "execution_count": 7,
   "id": "3dd08907",
   "metadata": {},
   "outputs": [
    {
     "data": {
      "text/html": [
       "<div>\n",
       "<style scoped>\n",
       "    .dataframe tbody tr th:only-of-type {\n",
       "        vertical-align: middle;\n",
       "    }\n",
       "\n",
       "    .dataframe tbody tr th {\n",
       "        vertical-align: top;\n",
       "    }\n",
       "\n",
       "    .dataframe thead th {\n",
       "        text-align: right;\n",
       "    }\n",
       "</style>\n",
       "<table border=\"1\" class=\"dataframe\">\n",
       "  <thead>\n",
       "    <tr style=\"text-align: right;\">\n",
       "      <th></th>\n",
       "      <th>song_id</th>\n",
       "      <th>rank</th>\n",
       "      <th>artist_names</th>\n",
       "      <th>number_of_artists</th>\n",
       "      <th>artist_individual</th>\n",
       "      <th>artist_genre</th>\n",
       "      <th>collab</th>\n",
       "      <th>track_name</th>\n",
       "      <th>release_date</th>\n",
       "      <th>number_of_album_tracks</th>\n",
       "      <th>record_label</th>\n",
       "      <th>peak_rank</th>\n",
       "      <th>previous_rank</th>\n",
       "      <th>weeks_on_chart</th>\n",
       "      <th>weekly_streams</th>\n",
       "      <th>week</th>\n",
       "      <th>danceability</th>\n",
       "      <th>energy</th>\n",
       "      <th>key</th>\n",
       "      <th>mode</th>\n",
       "      <th>loudness</th>\n",
       "      <th>speechiness</th>\n",
       "      <th>acousticness</th>\n",
       "      <th>instrumentalness</th>\n",
       "      <th>liveness</th>\n",
       "      <th>valence</th>\n",
       "      <th>tempo</th>\n",
       "      <th>duration</th>\n",
       "      <th>country</th>\n",
       "      <th>region</th>\n",
       "      <th>language</th>\n",
       "    </tr>\n",
       "  </thead>\n",
       "  <tbody>\n",
       "    <tr>\n",
       "      <th>0</th>\n",
       "      <td>0</td>\n",
       "      <td>1</td>\n",
       "      <td>Paulo Londra</td>\n",
       "      <td>1</td>\n",
       "      <td>Paulo Londra</td>\n",
       "      <td>argentine hip hop</td>\n",
       "      <td>False</td>\n",
       "      <td>Plan A</td>\n",
       "      <td>2022-03-23</td>\n",
       "      <td>1</td>\n",
       "      <td>WEA Latina</td>\n",
       "      <td>1</td>\n",
       "      <td>1.0</td>\n",
       "      <td>4</td>\n",
       "      <td>3003411</td>\n",
       "      <td>2022-04-14</td>\n",
       "      <td>0.583</td>\n",
       "      <td>0.834</td>\n",
       "      <td>0</td>\n",
       "      <td>1</td>\n",
       "      <td>-4.875</td>\n",
       "      <td>0.0444</td>\n",
       "      <td>0.0495</td>\n",
       "      <td>0.000000</td>\n",
       "      <td>0.0658</td>\n",
       "      <td>0.557</td>\n",
       "      <td>173.935</td>\n",
       "      <td>178203</td>\n",
       "      <td>Argentina</td>\n",
       "      <td>South America</td>\n",
       "      <td>Spanish</td>\n",
       "    </tr>\n",
       "    <tr>\n",
       "      <th>1</th>\n",
       "      <td>1</td>\n",
       "      <td>2</td>\n",
       "      <td>WOS</td>\n",
       "      <td>1</td>\n",
       "      <td>WOS</td>\n",
       "      <td>argentine indie</td>\n",
       "      <td>False</td>\n",
       "      <td>ARRANCARMELO</td>\n",
       "      <td>2022-04-06</td>\n",
       "      <td>1</td>\n",
       "      <td>DOGUITO Records / DALE PLAY Records</td>\n",
       "      <td>2</td>\n",
       "      <td>129.0</td>\n",
       "      <td>2</td>\n",
       "      <td>2512175</td>\n",
       "      <td>2022-04-14</td>\n",
       "      <td>0.654</td>\n",
       "      <td>0.354</td>\n",
       "      <td>5</td>\n",
       "      <td>1</td>\n",
       "      <td>-7.358</td>\n",
       "      <td>0.0738</td>\n",
       "      <td>0.7240</td>\n",
       "      <td>0.000000</td>\n",
       "      <td>0.1340</td>\n",
       "      <td>0.262</td>\n",
       "      <td>81.956</td>\n",
       "      <td>183547</td>\n",
       "      <td>Argentina</td>\n",
       "      <td>South America</td>\n",
       "      <td>Spanish</td>\n",
       "    </tr>\n",
       "    <tr>\n",
       "      <th>2</th>\n",
       "      <td>2</td>\n",
       "      <td>3</td>\n",
       "      <td>Paulo Londra</td>\n",
       "      <td>1</td>\n",
       "      <td>Paulo Londra</td>\n",
       "      <td>argentine hip hop</td>\n",
       "      <td>False</td>\n",
       "      <td>Chance</td>\n",
       "      <td>2022-04-06</td>\n",
       "      <td>2</td>\n",
       "      <td>WEA Latina</td>\n",
       "      <td>3</td>\n",
       "      <td>59.0</td>\n",
       "      <td>2</td>\n",
       "      <td>2408983</td>\n",
       "      <td>2022-04-14</td>\n",
       "      <td>0.721</td>\n",
       "      <td>0.463</td>\n",
       "      <td>1</td>\n",
       "      <td>0</td>\n",
       "      <td>-9.483</td>\n",
       "      <td>0.0646</td>\n",
       "      <td>0.2410</td>\n",
       "      <td>0.000000</td>\n",
       "      <td>0.0929</td>\n",
       "      <td>0.216</td>\n",
       "      <td>137.915</td>\n",
       "      <td>204003</td>\n",
       "      <td>Argentina</td>\n",
       "      <td>South America</td>\n",
       "      <td>Spanish</td>\n",
       "    </tr>\n",
       "    <tr>\n",
       "      <th>3</th>\n",
       "      <td>3</td>\n",
       "      <td>5</td>\n",
       "      <td>Cris Mj</td>\n",
       "      <td>1</td>\n",
       "      <td>Cris Mj</td>\n",
       "      <td>urbano chileno</td>\n",
       "      <td>False</td>\n",
       "      <td>Una Noche en Medellín</td>\n",
       "      <td>2022-01-21</td>\n",
       "      <td>1</td>\n",
       "      <td>Nabru Records LLC</td>\n",
       "      <td>5</td>\n",
       "      <td>5.0</td>\n",
       "      <td>8</td>\n",
       "      <td>2080139</td>\n",
       "      <td>2022-04-14</td>\n",
       "      <td>0.870</td>\n",
       "      <td>0.548</td>\n",
       "      <td>10</td>\n",
       "      <td>0</td>\n",
       "      <td>-5.253</td>\n",
       "      <td>0.0770</td>\n",
       "      <td>0.0924</td>\n",
       "      <td>0.000046</td>\n",
       "      <td>0.0534</td>\n",
       "      <td>0.832</td>\n",
       "      <td>96.018</td>\n",
       "      <td>153750</td>\n",
       "      <td>Argentina</td>\n",
       "      <td>South America</td>\n",
       "      <td>Spanish</td>\n",
       "    </tr>\n",
       "    <tr>\n",
       "      <th>4</th>\n",
       "      <td>4</td>\n",
       "      <td>6</td>\n",
       "      <td>Emilia</td>\n",
       "      <td>1</td>\n",
       "      <td>Emilia</td>\n",
       "      <td>pop argentino</td>\n",
       "      <td>False</td>\n",
       "      <td>cuatro veinte</td>\n",
       "      <td>2022-03-24</td>\n",
       "      <td>1</td>\n",
       "      <td>Sony Music Latin</td>\n",
       "      <td>6</td>\n",
       "      <td>9.0</td>\n",
       "      <td>3</td>\n",
       "      <td>1923270</td>\n",
       "      <td>2022-04-14</td>\n",
       "      <td>0.761</td>\n",
       "      <td>0.696</td>\n",
       "      <td>7</td>\n",
       "      <td>0</td>\n",
       "      <td>-3.817</td>\n",
       "      <td>0.0505</td>\n",
       "      <td>0.0811</td>\n",
       "      <td>0.000063</td>\n",
       "      <td>0.1010</td>\n",
       "      <td>0.501</td>\n",
       "      <td>95.066</td>\n",
       "      <td>133895</td>\n",
       "      <td>Argentina</td>\n",
       "      <td>South America</td>\n",
       "      <td>Spanish</td>\n",
       "    </tr>\n",
       "  </tbody>\n",
       "</table>\n",
       "</div>"
      ],
      "text/plain": [
       "   song_id  rank  artist_names  number_of_artists artist_individual  \\\n",
       "0        0     1  Paulo Londra                  1      Paulo Londra   \n",
       "1        1     2           WOS                  1               WOS   \n",
       "2        2     3  Paulo Londra                  1      Paulo Londra   \n",
       "3        3     5       Cris Mj                  1           Cris Mj   \n",
       "4        4     6        Emilia                  1            Emilia   \n",
       "\n",
       "        artist_genre  collab             track_name release_date  \\\n",
       "0  argentine hip hop   False                 Plan A   2022-03-23   \n",
       "1    argentine indie   False           ARRANCARMELO   2022-04-06   \n",
       "2  argentine hip hop   False                 Chance   2022-04-06   \n",
       "3     urbano chileno   False  Una Noche en Medellín   2022-01-21   \n",
       "4      pop argentino   False          cuatro veinte   2022-03-24   \n",
       "\n",
       "   number_of_album_tracks                         record_label  peak_rank  \\\n",
       "0                       1                           WEA Latina          1   \n",
       "1                       1  DOGUITO Records / DALE PLAY Records          2   \n",
       "2                       2                           WEA Latina          3   \n",
       "3                       1                    Nabru Records LLC          5   \n",
       "4                       1                     Sony Music Latin          6   \n",
       "\n",
       "   previous_rank  weeks_on_chart  weekly_streams        week  danceability  \\\n",
       "0            1.0               4         3003411  2022-04-14         0.583   \n",
       "1          129.0               2         2512175  2022-04-14         0.654   \n",
       "2           59.0               2         2408983  2022-04-14         0.721   \n",
       "3            5.0               8         2080139  2022-04-14         0.870   \n",
       "4            9.0               3         1923270  2022-04-14         0.761   \n",
       "\n",
       "   energy  key  mode  loudness  speechiness  acousticness  instrumentalness  \\\n",
       "0   0.834    0     1    -4.875       0.0444        0.0495          0.000000   \n",
       "1   0.354    5     1    -7.358       0.0738        0.7240          0.000000   \n",
       "2   0.463    1     0    -9.483       0.0646        0.2410          0.000000   \n",
       "3   0.548   10     0    -5.253       0.0770        0.0924          0.000046   \n",
       "4   0.696    7     0    -3.817       0.0505        0.0811          0.000063   \n",
       "\n",
       "   liveness  valence    tempo  duration    country         region language  \n",
       "0    0.0658    0.557  173.935    178203  Argentina  South America  Spanish  \n",
       "1    0.1340    0.262   81.956    183547  Argentina  South America  Spanish  \n",
       "2    0.0929    0.216  137.915    204003  Argentina  South America  Spanish  \n",
       "3    0.0534    0.832   96.018    153750  Argentina  South America  Spanish  \n",
       "4    0.1010    0.501   95.066    133895  Argentina  South America  Spanish  "
      ]
     },
     "execution_count": 7,
     "metadata": {},
     "output_type": "execute_result"
    }
   ],
   "source": [
    "pd.set_option('display.max_columns', None)\n",
    "df.head()"
   ]
  },
  {
   "cell_type": "markdown",
   "id": "47ece24a",
   "metadata": {},
   "source": [
    "# 2. Data cleaning"
   ]
  },
  {
   "cell_type": "markdown",
   "id": "f442b18d",
   "metadata": {},
   "source": [
    "#### variable renaming, data type amendments, summary statistics, and missing values have already been cleaned in prior exercises. This step will focus on identifying outliers via density plots. "
   ]
  },
  {
   "cell_type": "code",
   "execution_count": 6,
   "id": "9e96318e",
   "metadata": {},
   "outputs": [
    {
     "name": "stderr",
     "output_type": "stream",
     "text": [
      "C:\\Users\\maple\\anaconda3\\lib\\site-packages\\seaborn\\distributions.py:2619: FutureWarning: `distplot` is a deprecated function and will be removed in a future version. Please adapt your code to use either `displot` (a figure-level function with similar flexibility) or `histplot` (an axes-level function for histograms).\n",
      "  warnings.warn(msg, FutureWarning)\n"
     ]
    },
    {
     "data": {
      "text/plain": [
       "<AxesSubplot:xlabel='peak_rank', ylabel='Density'>"
      ]
     },
     "execution_count": 6,
     "metadata": {},
     "output_type": "execute_result"
    },
    {
     "data": {
      "image/png": "[encoded data removed]",
      "text/plain": [
       "<Figure size 432x288 with 1 Axes>"
      ]
     },
     "metadata": {
      "needs_background": "light"
     },
     "output_type": "display_data"
    }
   ],
   "source": [
    "sns.distplot(df['peak_rank'], bins=20) # Shows extreme values\n",
    "\n",
    "# Some of the outliers in the high values may need to be removed, but let's try without doing so first."
   ]
  },
  {
   "cell_type": "code",
   "execution_count": 7,
   "id": "7e0687e7",
   "metadata": {},
   "outputs": [
    {
     "name": "stderr",
     "output_type": "stream",
     "text": [
      "C:\\Users\\maple\\anaconda3\\lib\\site-packages\\seaborn\\distributions.py:2619: FutureWarning: `distplot` is a deprecated function and will be removed in a future version. Please adapt your code to use either `displot` (a figure-level function with similar flexibility) or `histplot` (an axes-level function for histograms).\n",
      "  warnings.warn(msg, FutureWarning)\n"
     ]
    },
    {
     "data": {
      "text/plain": [
       "<AxesSubplot:xlabel='weeks_on_chart', ylabel='Density'>"
      ]
     },
     "execution_count": 7,
     "metadata": {},
     "output_type": "execute_result"
    },
    {
     "data": {
      "image/png": "[encoded data removed]",
      "text/plain": [
       "<Figure size 432x288 with 1 Axes>"
      ]
     },
     "metadata": {
      "needs_background": "light"
     },
     "output_type": "display_data"
    }
   ],
   "source": [
    "sns.distplot(df['weeks_on_chart'], bins=20) # Shows extreme values"
   ]
  },
  {
   "cell_type": "markdown",
   "id": "dfc5547a",
   "metadata": {},
   "source": [
    "#### Most songs have a peak rank of 1-10, and distribution decreases as peak rank moves closer to 200, the lowest possible rank on a chart. The majority of songs also spend between 1-20 weeks on a chart with distribution decreasing as weeks increase. For the purpose of this exercise we will see how well the regression model performs with outliers included."
   ]
  },
  {
   "cell_type": "code",
   "execution_count": 40,
   "id": "30a9dff0",
   "metadata": {},
   "outputs": [],
   "source": [
    "# Creating a separate dataset without duplicates in order to conduct linear regression on previous_rank, which used 'n/a'\n",
    "# for songs that didn't chart in the previous week\n",
    "df2 = df.dropna()\n"
   ]
  },
  {
   "cell_type": "markdown",
   "id": "948cc28d",
   "metadata": {},
   "source": [
    "# 3. Data prep for regression analysis"
   ]
  },
  {
   "cell_type": "code",
   "execution_count": 10,
   "id": "9cd64c11",
   "metadata": {},
   "outputs": [
    {
     "data": {
      "image/png": "[encoded data removed]",
      "text/plain": [
       "<Figure size 432x288 with 1 Axes>"
      ]
     },
     "metadata": {
      "needs_background": "light"
     },
     "output_type": "display_data"
    }
   ],
   "source": [
    "# Create a scatterplot using matplotlib for another look at how the chosen variables plot against each other.\n",
    "# 1. Peak rank and weeks on chart\n",
    "df.plot(x = 'weeks_on_chart', y='peak_rank',style='o')\n",
    "plt.title('Peak Rank vs Weeks on Chart')  \n",
    "plt.xlabel('Weeks on Chart')  \n",
    "plt.ylabel('Peak Rank')  \n",
    "plt.show()"
   ]
  },
  {
   "cell_type": "code",
   "execution_count": 11,
   "id": "f91c1d90",
   "metadata": {},
   "outputs": [
    {
     "data": {
      "image/png": "[encoded data removed]",
      "text/plain": [
       "<Figure size 432x288 with 1 Axes>"
      ]
     },
     "metadata": {
      "needs_background": "light"
     },
     "output_type": "display_data"
    }
   ],
   "source": [
    "# 2. Weekly streams and rank\n",
    "df.plot(x = 'weekly_streams', y='rank',style='o')\n",
    "plt.title('Rank vs Weekly Streams')  \n",
    "plt.xlabel('Weekly Streams')  \n",
    "plt.ylabel('Rank')  \n",
    "plt.show()"
   ]
  },
  {
   "cell_type": "code",
   "execution_count": 51,
   "id": "22d359ec",
   "metadata": {},
   "outputs": [
    {
     "data": {
      "image/png": "[encoded data removed]",
      "text/plain": [
       "<Figure size 432x288 with 1 Axes>"
      ]
     },
     "metadata": {
      "needs_background": "light"
     },
     "output_type": "display_data"
    }
   ],
   "source": [
    "# 3. Weekly streams and rank\n",
    "df.plot(x = 'loudness', y='energy',style='o')\n",
    "plt.title('Loudness vs Energy')  \n",
    "plt.xlabel('Loudness')  \n",
    "plt.ylabel('Energy')  \n",
    "plt.show()"
   ]
  },
  {
   "cell_type": "markdown",
   "id": "7c901fe6",
   "metadata": {},
   "source": [
    "#### Hypothesis 1: If a song spends more weeks on a chart, then it will have a \"higher\", or better performing, peak rank (closer to #1) \n",
    "#### Hypothesis 2: If a song has higher weekly streams, then it will have a \"higher\", or better performing, rank (closer to #1) \n",
    "#### Hypothesis 3: If a song has a higher loudness score, then it will have a higher energy score.\n",
    "#### Hypothesis 4: If a song song has a higher previous rank, than its rank will be higher, or, a song's rank will closely follow it's previous rank."
   ]
  },
  {
   "cell_type": "code",
   "execution_count": 13,
   "id": "1b4e53cb",
   "metadata": {},
   "outputs": [],
   "source": [
    "# Reshape the variables into NumPy arrays and put them into separate objects.\n",
    "\n",
    "X = df['weeks_on_chart'].values.reshape(-1,1)\n",
    "y = df['peak_rank'].values.reshape(-1,1)"
   ]
  },
  {
   "cell_type": "code",
   "execution_count": 14,
   "id": "fcb73ee8",
   "metadata": {},
   "outputs": [
    {
     "data": {
      "text/plain": [
       "array([[ 4],\n",
       "       [ 2],\n",
       "       [ 2],\n",
       "       ...,\n",
       "       [30],\n",
       "       [30],\n",
       "       [30]], dtype=int64)"
      ]
     },
     "execution_count": 14,
     "metadata": {},
     "output_type": "execute_result"
    }
   ],
   "source": [
    "X"
   ]
  },
  {
   "cell_type": "code",
   "execution_count": 15,
   "id": "d96cb845",
   "metadata": {},
   "outputs": [
    {
     "data": {
      "text/plain": [
       "array([[  1],\n",
       "       [  2],\n",
       "       [  3],\n",
       "       ...,\n",
       "       [114],\n",
       "       [114],\n",
       "       [114]], dtype=int64)"
      ]
     },
     "execution_count": 15,
     "metadata": {},
     "output_type": "execute_result"
    }
   ],
   "source": [
    "y"
   ]
  },
  {
   "cell_type": "code",
   "execution_count": 16,
   "id": "6fbf828b",
   "metadata": {},
   "outputs": [],
   "source": [
    "# Split data into a training set and a test set.\n",
    "\n",
    "X_train, X_test, y_train, y_test = train_test_split(X, y, test_size=0.3, random_state=0)"
   ]
  },
  {
   "cell_type": "code",
   "execution_count": 17,
   "id": "a1912c35",
   "metadata": {},
   "outputs": [],
   "source": [
    "# Reshape the variables into NumPy arrays and put them into separate objects.\n",
    "\n",
    "Xx = df['weekly_streams'].values.reshape(-1,1)\n",
    "yy = df['rank'].values.reshape(-1,1)"
   ]
  },
  {
   "cell_type": "code",
   "execution_count": 18,
   "id": "83ef95dc",
   "metadata": {},
   "outputs": [
    {
     "data": {
      "text/plain": [
       "array([[3003411],\n",
       "       [2512175],\n",
       "       [2408983],\n",
       "       ...,\n",
       "       [  36817],\n",
       "       [  36817],\n",
       "       [  36817]], dtype=int64)"
      ]
     },
     "execution_count": 18,
     "metadata": {},
     "output_type": "execute_result"
    }
   ],
   "source": [
    "Xx"
   ]
  },
  {
   "cell_type": "code",
   "execution_count": 19,
   "id": "d6b2b461",
   "metadata": {},
   "outputs": [
    {
     "data": {
      "text/plain": [
       "array([[  1],\n",
       "       [  2],\n",
       "       [  3],\n",
       "       ...,\n",
       "       [199],\n",
       "       [199],\n",
       "       [199]], dtype=int64)"
      ]
     },
     "execution_count": 19,
     "metadata": {},
     "output_type": "execute_result"
    }
   ],
   "source": [
    "yy"
   ]
  },
  {
   "cell_type": "code",
   "execution_count": 20,
   "id": "16d70cf2",
   "metadata": {},
   "outputs": [],
   "source": [
    "# Split data into a training set and a test set.\n",
    "\n",
    "Xx_train, Xx_test, yy_train, yy_test = train_test_split(Xx, yy, test_size=0.3, random_state=0)"
   ]
  },
  {
   "cell_type": "code",
   "execution_count": 21,
   "id": "77fa2c4f",
   "metadata": {},
   "outputs": [],
   "source": [
    "# Reshape the variables into NumPy arrays and put them into separate objects.\n",
    "\n",
    "X3 = df['loudness'].values.reshape(-1,1)\n",
    "y3 = df['energy'].values.reshape(-1,1)"
   ]
  },
  {
   "cell_type": "code",
   "execution_count": 22,
   "id": "263cd8fd",
   "metadata": {},
   "outputs": [
    {
     "data": {
      "text/plain": [
       "array([[-4.875],\n",
       "       [-7.358],\n",
       "       [-9.483],\n",
       "       ...,\n",
       "       [-6.32 ],\n",
       "       [-6.32 ],\n",
       "       [-6.32 ]])"
      ]
     },
     "execution_count": 22,
     "metadata": {},
     "output_type": "execute_result"
    }
   ],
   "source": [
    "X3"
   ]
  },
  {
   "cell_type": "code",
   "execution_count": 23,
   "id": "3c2806d3",
   "metadata": {},
   "outputs": [
    {
     "data": {
      "text/plain": [
       "array([[0.834],\n",
       "       [0.354],\n",
       "       [0.463],\n",
       "       ...,\n",
       "       [0.8  ],\n",
       "       [0.8  ],\n",
       "       [0.8  ]])"
      ]
     },
     "execution_count": 23,
     "metadata": {},
     "output_type": "execute_result"
    }
   ],
   "source": [
    "y3"
   ]
  },
  {
   "cell_type": "code",
   "execution_count": 24,
   "id": "aa79ab0c",
   "metadata": {},
   "outputs": [],
   "source": [
    "# Split data into a training set and a test set.\n",
    "\n",
    "X3_train, X3_test, y3_train, y3_test = train_test_split(X3, y3, test_size=0.3, random_state=0)"
   ]
  },
  {
   "cell_type": "code",
   "execution_count": 41,
   "id": "3226c4bd",
   "metadata": {},
   "outputs": [],
   "source": [
    "# Reshape the variables into NumPy arrays and put them into separate objects.\n",
    "\n",
    "X4 = df2['rank'].values.reshape(-1,1)\n",
    "y4 = df2['previous_rank'].values.reshape(-1,1)"
   ]
  },
  {
   "cell_type": "code",
   "execution_count": 42,
   "id": "3039d6c2",
   "metadata": {},
   "outputs": [
    {
     "data": {
      "text/plain": [
       "array([[  1],\n",
       "       [  2],\n",
       "       [  3],\n",
       "       ...,\n",
       "       [199],\n",
       "       [199],\n",
       "       [199]], dtype=int64)"
      ]
     },
     "execution_count": 42,
     "metadata": {},
     "output_type": "execute_result"
    }
   ],
   "source": [
    "X4"
   ]
  },
  {
   "cell_type": "code",
   "execution_count": 43,
   "id": "bf24a715",
   "metadata": {},
   "outputs": [
    {
     "data": {
      "text/plain": [
       "array([[  1.],\n",
       "       [129.],\n",
       "       [ 59.],\n",
       "       ...,\n",
       "       [183.],\n",
       "       [183.],\n",
       "       [183.]])"
      ]
     },
     "execution_count": 43,
     "metadata": {},
     "output_type": "execute_result"
    }
   ],
   "source": [
    "y4"
   ]
  },
  {
   "cell_type": "code",
   "execution_count": 44,
   "id": "1a1037e3",
   "metadata": {},
   "outputs": [],
   "source": [
    "# Split data into a training set and a test set.\n",
    "\n",
    "X4_train, X4_test, y4_train, y4_test = train_test_split(X4, y4, test_size=0.3, random_state=0)"
   ]
  },
  {
   "cell_type": "markdown",
   "id": "115ac32b",
   "metadata": {},
   "source": [
    "# 4. Regression Analysis"
   ]
  },
  {
   "cell_type": "code",
   "execution_count": 34,
   "id": "976aa526",
   "metadata": {},
   "outputs": [],
   "source": [
    "# Create a regression object.\n",
    "\n",
    "regression = LinearRegression()  # This is the regression object, which will be fit onto the training set."
   ]
  },
  {
   "cell_type": "code",
   "execution_count": 35,
   "id": "a5d9d69e",
   "metadata": {},
   "outputs": [
    {
     "data": {
      "text/plain": [
       "LinearRegression()"
      ]
     },
     "execution_count": 35,
     "metadata": {},
     "output_type": "execute_result"
    }
   ],
   "source": [
    "# Fit the regression object onto the training set.\n",
    "\n",
    "regression.fit(X_train, y_train)"
   ]
  },
  {
   "cell_type": "code",
   "execution_count": 36,
   "id": "6019ee99",
   "metadata": {},
   "outputs": [],
   "source": [
    "# Predict the values of y using X.\n",
    "\n",
    "y_predicted = regression.predict(X_test)"
   ]
  },
  {
   "cell_type": "code",
   "execution_count": 37,
   "id": "f042499e",
   "metadata": {},
   "outputs": [
    {
     "data": {
      "image/png": "[encoded data removed]",
      "text/plain": [
       "<Figure size 432x288 with 1 Axes>"
      ]
     },
     "metadata": {
      "needs_background": "light"
     },
     "output_type": "display_data"
    }
   ],
   "source": [
    "# Create a plot that shows the regression line from the model on the test set.\n",
    "\n",
    "plot_test = plt\n",
    "plot_test.scatter(X_test, y_test, color='blue', s = 15)\n",
    "plot_test.plot(X_test, y_predicted, color='red', linewidth =3)\n",
    "plot_test.title('Peak Rank vs Weeks on Chart (Test set)')\n",
    "plot_test.xlabel('Weeks on Chart')\n",
    "plot_test.ylabel('Peak Rank')\n",
    "plot_test.show()"
   ]
  },
  {
   "cell_type": "markdown",
   "id": "a7a7fe54",
   "metadata": {},
   "source": [
    "#### The line doesn't fit the data very well. There are many data points across increasing weeks on chart where peak rank is still low, and peak ranks that are high when the song hasn't spent many weeks on chart. The regression line also extends into negative peak rank which is not possible."
   ]
  },
  {
   "cell_type": "code",
   "execution_count": 20,
   "id": "0a4f447e",
   "metadata": {},
   "outputs": [],
   "source": [
    "# Create objects that contain the model summary statistics.\n",
    "\n",
    "rmse = mean_squared_error(y_test, y_predicted) # This is the mean squared error\n",
    "r2 = r2_score(y_test, y_predicted) # This is the R2 score. "
   ]
  },
  {
   "cell_type": "code",
   "execution_count": 21,
   "id": "9b4f099b",
   "metadata": {},
   "outputs": [
    {
     "name": "stdout",
     "output_type": "stream",
     "text": [
      "Slope: [[-0.292853]]\n",
      "Mean squared error:  1920.635504525331\n",
      "R2 score:  0.07518191528314089\n"
     ]
    }
   ],
   "source": [
    "# Print the model summary statistics. This is where you evaluate the performance of the model.\n",
    "\n",
    "print('Slope:' ,regression.coef_)\n",
    "print('Mean squared error: ', rmse)\n",
    "print('R2 score: ', r2)"
   ]
  },
  {
   "cell_type": "markdown",
   "id": "970f094c",
   "metadata": {},
   "source": [
    "#### The slope of -.293 indicates a negative relationship between weeks on chart and peak rank. As weeks on chart increases, the peak rank decreases. The mean squared error is very large indicating that the regression line isn't an accurate representation of the data, and the r2 value of .075 is very low and close to 0, further indicating a poor fit. "
   ]
  },
  {
   "cell_type": "code",
   "execution_count": 25,
   "id": "27c208bf",
   "metadata": {},
   "outputs": [],
   "source": [
    "# Create a regression object.\n",
    "\n",
    "regression_2 = LinearRegression()  # This is the regression object, which will be fit onto the training set."
   ]
  },
  {
   "cell_type": "code",
   "execution_count": 27,
   "id": "62720bf9",
   "metadata": {},
   "outputs": [
    {
     "data": {
      "text/plain": [
       "LinearRegression()"
      ]
     },
     "execution_count": 27,
     "metadata": {},
     "output_type": "execute_result"
    }
   ],
   "source": [
    "# Fit the regression object onto the training set.\n",
    "\n",
    "regression.fit(Xx_train, yy_train)"
   ]
  },
  {
   "cell_type": "code",
   "execution_count": 28,
   "id": "70a37eac",
   "metadata": {},
   "outputs": [],
   "source": [
    "# Predict the values of y using X.\n",
    "\n",
    "yy_predicted = regression.predict(Xx_test)"
   ]
  },
  {
   "cell_type": "code",
   "execution_count": 29,
   "id": "dd8f7466",
   "metadata": {},
   "outputs": [
    {
     "data": {
      "image/png": "[encoded data removed]",
      "text/plain": [
       "<Figure size 432x288 with 1 Axes>"
      ]
     },
     "metadata": {
      "needs_background": "light"
     },
     "output_type": "display_data"
    }
   ],
   "source": [
    "# Create a plot that shows the regression line from the model on the test set.\n",
    "\n",
    "plot_test = plt\n",
    "plot_test.scatter(Xx_test, yy_test, color='blue', s = 15)\n",
    "plot_test.plot(Xx_test, yy_predicted, color='red', linewidth =3)\n",
    "plot_test.title('Rank vs Weekly Streams (Test set)')\n",
    "plot_test.xlabel('Weekly Streams')\n",
    "plot_test.ylabel('Rank')\n",
    "plot_test.show()"
   ]
  },
  {
   "cell_type": "markdown",
   "id": "56ef351e",
   "metadata": {},
   "source": [
    "#### The line doesn't fit the data very well. There are many data points where weekly streams is low but rank is still high performing. Rank does appear to move closer to 0 as weekly streams increases, but the regression line also extends into negative rank which is not possible."
   ]
  },
  {
   "cell_type": "code",
   "execution_count": 30,
   "id": "f294230c",
   "metadata": {},
   "outputs": [],
   "source": [
    "#Create objects that contain the model summary statistics.\n",
    "\n",
    "rmse_2 = mean_squared_error(yy_test, yy_predicted) # This is the mean squared error\n",
    "r2_2 = r2_score(yy_test, yy_predicted) # This is the R2 score. "
   ]
  },
  {
   "cell_type": "code",
   "execution_count": 33,
   "id": "48afecf2",
   "metadata": {},
   "outputs": [
    {
     "name": "stdout",
     "output_type": "stream",
     "text": [
      "Slope: [[-3.67776509e-06]]\n",
      "Mean squared error:  3254.183408850646\n",
      "R2 score:  0.023541284801271378\n"
     ]
    }
   ],
   "source": [
    "# Print the model summary statistics. This is where you evaluate the performance of the model.\n",
    "\n",
    "print('Slope:' ,regression.coef_)\n",
    "print('Mean squared error: ', rmse_2)\n",
    "print('R2 score: ', r2_2)"
   ]
  },
  {
   "cell_type": "markdown",
   "id": "4c4d7fb4",
   "metadata": {},
   "source": [
    "#### The slope of -3.677 indicates a strong negative relationship between weekly streams and rank. As weekly streams on chart increases, the rank decreases a signficant degree. The mean squared error is very large indicating that the regression line isn't an accurate representation of the data, and the r2 value of .023 is very low and close to 0, further indicating a poor fit. "
   ]
  },
  {
   "cell_type": "code",
   "execution_count": 56,
   "id": "939a283f",
   "metadata": {},
   "outputs": [],
   "source": [
    "# Create a regression object.\n",
    "\n",
    "regression_3 = LinearRegression()  # This is the regression object, which will be fit onto the training set."
   ]
  },
  {
   "cell_type": "code",
   "execution_count": 57,
   "id": "171a0f19",
   "metadata": {},
   "outputs": [
    {
     "data": {
      "text/plain": [
       "LinearRegression()"
      ]
     },
     "execution_count": 57,
     "metadata": {},
     "output_type": "execute_result"
    }
   ],
   "source": [
    "# Fit the regression object onto the training set.\n",
    "\n",
    "regression.fit(X3_train, y3_train)"
   ]
  },
  {
   "cell_type": "code",
   "execution_count": 58,
   "id": "52f5decc",
   "metadata": {},
   "outputs": [],
   "source": [
    "# Predict the values of y using X.\n",
    "\n",
    "y3_predicted = regression.predict(X3_test)"
   ]
  },
  {
   "cell_type": "code",
   "execution_count": 59,
   "id": "04cab885",
   "metadata": {},
   "outputs": [
    {
     "data": {
      "image/png": "[encoded data removed]",
      "text/plain": [
       "<Figure size 432x288 with 1 Axes>"
      ]
     },
     "metadata": {
      "needs_background": "light"
     },
     "output_type": "display_data"
    }
   ],
   "source": [
    "# Create a plot that shows the regression line from the model on the test set.\n",
    "\n",
    "plot_test = plt\n",
    "plot_test.scatter(X3_test, y3_test, color='blue', s = 15)\n",
    "plot_test.plot(X3_test, y3_predicted, color='red', linewidth =3)\n",
    "plot_test.title('Loudness vs Energy (Test set)')\n",
    "plot_test.xlabel('Loudnrankess')\n",
    "plot_test.ylabel('Energy')\n",
    "plot_test.show()"
   ]
  },
  {
   "cell_type": "markdown",
   "id": "c502e57e",
   "metadata": {},
   "source": [
    "#### The line somewhat fits the data, but there are still many data points that aren't covered by the regression line"
   ]
  },
  {
   "cell_type": "code",
   "execution_count": 60,
   "id": "7ff2411e",
   "metadata": {},
   "outputs": [],
   "source": [
    "#Create objects that contain the model summary statistics.\n",
    "\n",
    "rmse_3 = mean_squared_error(y3_test, y3_predicted) # This is the mean squared error\n",
    "r2_3 = r2_score(y3_test, y3_predicted) # This is the R2 score. "
   ]
  },
  {
   "cell_type": "code",
   "execution_count": 61,
   "id": "47e4a152",
   "metadata": {},
   "outputs": [
    {
     "name": "stdout",
     "output_type": "stream",
     "text": [
      "Slope: [[0.04473348]]\n",
      "Mean squared error:  0.013019245902785597\n",
      "R2 score:  0.4660214059211528\n"
     ]
    }
   ],
   "source": [
    "# Print the model summary statistics. This is where you evaluate the performance of the model.\n",
    "\n",
    "print('Slope:' ,regression.coef_)\n",
    "print('Mean squared error: ', rmse_3)\n",
    "print('R2 score: ', r2_3)"
   ]
  },
  {
   "cell_type": "markdown",
   "id": "21d4962d",
   "metadata": {},
   "source": [
    "#### The slope of .0447 indicates a positive relationship between loudness and energy. As loudness increases, energy also increases to a small degree. The mean squared error is small indicating that the regression line may be an accurate representation of the data, but the r2 value of .466 indicates that the model isn't a great fit. "
   ]
  },
  {
   "cell_type": "code",
   "execution_count": 45,
   "id": "ce5cad03",
   "metadata": {},
   "outputs": [],
   "source": [
    "# Create a regression object.\n",
    "\n",
    "regression_4 = LinearRegression()  # This is the regression object, which will be fit onto the training set."
   ]
  },
  {
   "cell_type": "code",
   "execution_count": 46,
   "id": "332a177a",
   "metadata": {},
   "outputs": [
    {
     "data": {
      "text/plain": [
       "LinearRegression()"
      ]
     },
     "execution_count": 46,
     "metadata": {},
     "output_type": "execute_result"
    }
   ],
   "source": [
    "# Fit the regression object onto the training set.\n",
    "\n",
    "regression.fit(X4_train, y4_train)"
   ]
  },
  {
   "cell_type": "code",
   "execution_count": 47,
   "id": "211f452c",
   "metadata": {},
   "outputs": [],
   "source": [
    "# Predict the values of y using X.\n",
    "\n",
    "y4_predicted = regression.predict(X4_test)"
   ]
  },
  {
   "cell_type": "code",
   "execution_count": 48,
   "id": "4fedd8df",
   "metadata": {},
   "outputs": [
    {
     "data": {
      "image/png": "[encoded data removed]",
      "text/plain": [
       "<Figure size 432x288 with 1 Axes>"
      ]
     },
     "metadata": {
      "needs_background": "light"
     },
     "output_type": "display_data"
    }
   ],
   "source": [
    "# Create a plot that shows the regression line from the model on the test set.\n",
    "\n",
    "plot_test = plt\n",
    "plot_test.scatter(X4_test, y4_test, color='blue', s = 15)\n",
    "plot_test.plot(X4_test, y4_predicted, color='red', linewidth =3)\n",
    "plot_test.title('Rank vs Previous Rank (Test set)')\n",
    "plot_test.xlabel('rank')\n",
    "plot_test.ylabel('previous_rank')\n",
    "plot_test.show()"
   ]
  },
  {
   "cell_type": "markdown",
   "id": "fabd8278",
   "metadata": {},
   "source": [
    "#### The line doesn't fit the data very well. There are many datapoints far from the trend line, with many songs having high previous ranks but low ranks and vice versa."
   ]
  },
  {
   "cell_type": "code",
   "execution_count": 49,
   "id": "2575957b",
   "metadata": {},
   "outputs": [],
   "source": [
    "#Create objects that contain the model summary statistics.\n",
    "\n",
    "rmse_4 = mean_squared_error(y4_test, y4_predicted) # This is the mean squared error\n",
    "r2_4 = r2_score(y4_test, y4_predicted) # This is the R2 score. "
   ]
  },
  {
   "cell_type": "code",
   "execution_count": 50,
   "id": "3bd12637",
   "metadata": {},
   "outputs": [
    {
     "name": "stdout",
     "output_type": "stream",
     "text": [
      "Slope: [[0.91595108]]\n",
      "Mean squared error:  348.31905983839533\n",
      "R2 score:  0.8853061333992273\n"
     ]
    }
   ],
   "source": [
    "# Print the model summary statistics. This is where you evaluate the performance of the model.\n",
    "\n",
    "print('Slope:' ,regression.coef_)\n",
    "print('Mean squared error: ', rmse_4)\n",
    "print('R2 score: ', r2_4)"
   ]
  },
  {
   "cell_type": "markdown",
   "id": "b3c47b26",
   "metadata": {},
   "source": [
    "#### The slope of .915 indicates a positive relationship between rank and previous rank. As previous rank increases, rank also increases to a small degree. The mean squared error is large indicating that the regression line may be an inaccurate representation of the data, but the r2 value of .885 indicates that the model is a good fit. "
   ]
  },
  {
   "cell_type": "code",
   "execution_count": 68,
   "id": "4f7d89a0",
   "metadata": {},
   "outputs": [
    {
     "data": {
      "text/html": [
       "<div>\n",
       "<style scoped>\n",
       "    .dataframe tbody tr th:only-of-type {\n",
       "        vertical-align: middle;\n",
       "    }\n",
       "\n",
       "    .dataframe tbody tr th {\n",
       "        vertical-align: top;\n",
       "    }\n",
       "\n",
       "    .dataframe thead th {\n",
       "        text-align: right;\n",
       "    }\n",
       "</style>\n",
       "<table border=\"1\" class=\"dataframe\">\n",
       "  <thead>\n",
       "    <tr style=\"text-align: right;\">\n",
       "      <th></th>\n",
       "      <th>Actual</th>\n",
       "      <th>Predicted</th>\n",
       "    </tr>\n",
       "  </thead>\n",
       "  <tbody>\n",
       "    <tr>\n",
       "      <th>0</th>\n",
       "      <td>2</td>\n",
       "      <td>43.129314</td>\n",
       "    </tr>\n",
       "    <tr>\n",
       "      <th>1</th>\n",
       "      <td>13</td>\n",
       "      <td>-3.727165</td>\n",
       "    </tr>\n",
       "    <tr>\n",
       "      <th>2</th>\n",
       "      <td>86</td>\n",
       "      <td>49.864933</td>\n",
       "    </tr>\n",
       "    <tr>\n",
       "      <th>3</th>\n",
       "      <td>8</td>\n",
       "      <td>44.300726</td>\n",
       "    </tr>\n",
       "    <tr>\n",
       "      <th>4</th>\n",
       "      <td>16</td>\n",
       "      <td>49.864933</td>\n",
       "    </tr>\n",
       "    <tr>\n",
       "      <th>5</th>\n",
       "      <td>24</td>\n",
       "      <td>45.764991</td>\n",
       "    </tr>\n",
       "    <tr>\n",
       "      <th>6</th>\n",
       "      <td>9</td>\n",
       "      <td>40.493637</td>\n",
       "    </tr>\n",
       "    <tr>\n",
       "      <th>7</th>\n",
       "      <td>3</td>\n",
       "      <td>44.886432</td>\n",
       "    </tr>\n",
       "    <tr>\n",
       "      <th>8</th>\n",
       "      <td>1</td>\n",
       "      <td>44.300726</td>\n",
       "    </tr>\n",
       "    <tr>\n",
       "      <th>9</th>\n",
       "      <td>79</td>\n",
       "      <td>50.157786</td>\n",
       "    </tr>\n",
       "    <tr>\n",
       "      <th>10</th>\n",
       "      <td>1</td>\n",
       "      <td>47.814962</td>\n",
       "    </tr>\n",
       "    <tr>\n",
       "      <th>11</th>\n",
       "      <td>3</td>\n",
       "      <td>10.622632</td>\n",
       "    </tr>\n",
       "    <tr>\n",
       "      <th>12</th>\n",
       "      <td>77</td>\n",
       "      <td>48.693521</td>\n",
       "    </tr>\n",
       "    <tr>\n",
       "      <th>13</th>\n",
       "      <td>1</td>\n",
       "      <td>46.936403</td>\n",
       "    </tr>\n",
       "    <tr>\n",
       "      <th>14</th>\n",
       "      <td>13</td>\n",
       "      <td>42.543608</td>\n",
       "    </tr>\n",
       "    <tr>\n",
       "      <th>15</th>\n",
       "      <td>47</td>\n",
       "      <td>49.279227</td>\n",
       "    </tr>\n",
       "    <tr>\n",
       "      <th>16</th>\n",
       "      <td>52</td>\n",
       "      <td>38.150813</td>\n",
       "    </tr>\n",
       "    <tr>\n",
       "      <th>17</th>\n",
       "      <td>4</td>\n",
       "      <td>37.857960</td>\n",
       "    </tr>\n",
       "    <tr>\n",
       "      <th>18</th>\n",
       "      <td>24</td>\n",
       "      <td>46.936403</td>\n",
       "    </tr>\n",
       "    <tr>\n",
       "      <th>19</th>\n",
       "      <td>2</td>\n",
       "      <td>21.165339</td>\n",
       "    </tr>\n",
       "    <tr>\n",
       "      <th>20</th>\n",
       "      <td>1</td>\n",
       "      <td>48.986374</td>\n",
       "    </tr>\n",
       "    <tr>\n",
       "      <th>21</th>\n",
       "      <td>2</td>\n",
       "      <td>48.986374</td>\n",
       "    </tr>\n",
       "    <tr>\n",
       "      <th>22</th>\n",
       "      <td>8</td>\n",
       "      <td>47.522109</td>\n",
       "    </tr>\n",
       "    <tr>\n",
       "      <th>23</th>\n",
       "      <td>10</td>\n",
       "      <td>35.807989</td>\n",
       "    </tr>\n",
       "    <tr>\n",
       "      <th>24</th>\n",
       "      <td>2</td>\n",
       "      <td>38.150813</td>\n",
       "    </tr>\n",
       "    <tr>\n",
       "      <th>25</th>\n",
       "      <td>21</td>\n",
       "      <td>20.872486</td>\n",
       "    </tr>\n",
       "    <tr>\n",
       "      <th>26</th>\n",
       "      <td>2</td>\n",
       "      <td>44.300726</td>\n",
       "    </tr>\n",
       "    <tr>\n",
       "      <th>27</th>\n",
       "      <td>6</td>\n",
       "      <td>39.907931</td>\n",
       "    </tr>\n",
       "    <tr>\n",
       "      <th>28</th>\n",
       "      <td>32</td>\n",
       "      <td>42.543608</td>\n",
       "    </tr>\n",
       "    <tr>\n",
       "      <th>29</th>\n",
       "      <td>161</td>\n",
       "      <td>49.279227</td>\n",
       "    </tr>\n",
       "  </tbody>\n",
       "</table>\n",
       "</div>"
      ],
      "text/plain": [
       "    Actual  Predicted\n",
       "0        2  43.129314\n",
       "1       13  -3.727165\n",
       "2       86  49.864933\n",
       "3        8  44.300726\n",
       "4       16  49.864933\n",
       "5       24  45.764991\n",
       "6        9  40.493637\n",
       "7        3  44.886432\n",
       "8        1  44.300726\n",
       "9       79  50.157786\n",
       "10       1  47.814962\n",
       "11       3  10.622632\n",
       "12      77  48.693521\n",
       "13       1  46.936403\n",
       "14      13  42.543608\n",
       "15      47  49.279227\n",
       "16      52  38.150813\n",
       "17       4  37.857960\n",
       "18      24  46.936403\n",
       "19       2  21.165339\n",
       "20       1  48.986374\n",
       "21       2  48.986374\n",
       "22       8  47.522109\n",
       "23      10  35.807989\n",
       "24       2  38.150813\n",
       "25      21  20.872486\n",
       "26       2  44.300726\n",
       "27       6  39.907931\n",
       "28      32  42.543608\n",
       "29     161  49.279227"
      ]
     },
     "execution_count": 68,
     "metadata": {},
     "output_type": "execute_result"
    }
   ],
   "source": [
    "# Create a dataframe comparing the actual and predicted values of y.\n",
    "\n",
    "data = pd.DataFrame({'Actual': y_test.flatten(), 'Predicted': y_predicted.flatten()})\n",
    "data.head(30)"
   ]
  },
  {
   "cell_type": "code",
   "execution_count": 36,
   "id": "2282a886",
   "metadata": {},
   "outputs": [
    {
     "data": {
      "text/html": [
       "<div>\n",
       "<style scoped>\n",
       "    .dataframe tbody tr th:only-of-type {\n",
       "        vertical-align: middle;\n",
       "    }\n",
       "\n",
       "    .dataframe tbody tr th {\n",
       "        vertical-align: top;\n",
       "    }\n",
       "\n",
       "    .dataframe thead th {\n",
       "        text-align: right;\n",
       "    }\n",
       "</style>\n",
       "<table border=\"1\" class=\"dataframe\">\n",
       "  <thead>\n",
       "    <tr style=\"text-align: right;\">\n",
       "      <th></th>\n",
       "      <th>Actual</th>\n",
       "      <th>Predicted</th>\n",
       "    </tr>\n",
       "  </thead>\n",
       "  <tbody>\n",
       "    <tr>\n",
       "      <th>0</th>\n",
       "      <td>56</td>\n",
       "      <td>101.416525</td>\n",
       "    </tr>\n",
       "    <tr>\n",
       "      <th>1</th>\n",
       "      <td>145</td>\n",
       "      <td>101.496204</td>\n",
       "    </tr>\n",
       "    <tr>\n",
       "      <th>2</th>\n",
       "      <td>88</td>\n",
       "      <td>101.573253</td>\n",
       "    </tr>\n",
       "    <tr>\n",
       "      <th>3</th>\n",
       "      <td>37</td>\n",
       "      <td>59.883572</td>\n",
       "    </tr>\n",
       "    <tr>\n",
       "      <th>4</th>\n",
       "      <td>16</td>\n",
       "      <td>101.407665</td>\n",
       "    </tr>\n",
       "    <tr>\n",
       "      <th>5</th>\n",
       "      <td>166</td>\n",
       "      <td>101.184767</td>\n",
       "    </tr>\n",
       "    <tr>\n",
       "      <th>6</th>\n",
       "      <td>104</td>\n",
       "      <td>97.695800</td>\n",
       "    </tr>\n",
       "    <tr>\n",
       "      <th>7</th>\n",
       "      <td>18</td>\n",
       "      <td>100.951943</td>\n",
       "    </tr>\n",
       "    <tr>\n",
       "      <th>8</th>\n",
       "      <td>48</td>\n",
       "      <td>101.481088</td>\n",
       "    </tr>\n",
       "    <tr>\n",
       "      <th>9</th>\n",
       "      <td>79</td>\n",
       "      <td>101.635485</td>\n",
       "    </tr>\n",
       "    <tr>\n",
       "      <th>10</th>\n",
       "      <td>6</td>\n",
       "      <td>94.284519</td>\n",
       "    </tr>\n",
       "    <tr>\n",
       "      <th>11</th>\n",
       "      <td>52</td>\n",
       "      <td>101.392237</td>\n",
       "    </tr>\n",
       "    <tr>\n",
       "      <th>12</th>\n",
       "      <td>109</td>\n",
       "      <td>101.641689</td>\n",
       "    </tr>\n",
       "    <tr>\n",
       "      <th>13</th>\n",
       "      <td>5</td>\n",
       "      <td>101.233137</td>\n",
       "    </tr>\n",
       "    <tr>\n",
       "      <th>14</th>\n",
       "      <td>182</td>\n",
       "      <td>101.586997</td>\n",
       "    </tr>\n",
       "    <tr>\n",
       "      <th>15</th>\n",
       "      <td>74</td>\n",
       "      <td>101.565022</td>\n",
       "    </tr>\n",
       "    <tr>\n",
       "      <th>16</th>\n",
       "      <td>139</td>\n",
       "      <td>101.604669</td>\n",
       "    </tr>\n",
       "    <tr>\n",
       "      <th>17</th>\n",
       "      <td>65</td>\n",
       "      <td>97.657890</td>\n",
       "    </tr>\n",
       "    <tr>\n",
       "      <th>18</th>\n",
       "      <td>24</td>\n",
       "      <td>101.288763</td>\n",
       "    </tr>\n",
       "    <tr>\n",
       "      <th>19</th>\n",
       "      <td>57</td>\n",
       "      <td>101.595114</td>\n",
       "    </tr>\n",
       "    <tr>\n",
       "      <th>20</th>\n",
       "      <td>13</td>\n",
       "      <td>101.334772</td>\n",
       "    </tr>\n",
       "    <tr>\n",
       "      <th>21</th>\n",
       "      <td>16</td>\n",
       "      <td>101.185661</td>\n",
       "    </tr>\n",
       "    <tr>\n",
       "      <th>22</th>\n",
       "      <td>9</td>\n",
       "      <td>97.960577</td>\n",
       "    </tr>\n",
       "    <tr>\n",
       "      <th>23</th>\n",
       "      <td>178</td>\n",
       "      <td>101.610663</td>\n",
       "    </tr>\n",
       "    <tr>\n",
       "      <th>24</th>\n",
       "      <td>28</td>\n",
       "      <td>100.890123</td>\n",
       "    </tr>\n",
       "    <tr>\n",
       "      <th>25</th>\n",
       "      <td>168</td>\n",
       "      <td>101.659239</td>\n",
       "    </tr>\n",
       "    <tr>\n",
       "      <th>26</th>\n",
       "      <td>67</td>\n",
       "      <td>98.365551</td>\n",
       "    </tr>\n",
       "    <tr>\n",
       "      <th>27</th>\n",
       "      <td>82</td>\n",
       "      <td>101.552330</td>\n",
       "    </tr>\n",
       "    <tr>\n",
       "      <th>28</th>\n",
       "      <td>62</td>\n",
       "      <td>101.380707</td>\n",
       "    </tr>\n",
       "    <tr>\n",
       "      <th>29</th>\n",
       "      <td>161</td>\n",
       "      <td>101.618258</td>\n",
       "    </tr>\n",
       "  </tbody>\n",
       "</table>\n",
       "</div>"
      ],
      "text/plain": [
       "    Actual   Predicted\n",
       "0       56  101.416525\n",
       "1      145  101.496204\n",
       "2       88  101.573253\n",
       "3       37   59.883572\n",
       "4       16  101.407665\n",
       "5      166  101.184767\n",
       "6      104   97.695800\n",
       "7       18  100.951943\n",
       "8       48  101.481088\n",
       "9       79  101.635485\n",
       "10       6   94.284519\n",
       "11      52  101.392237\n",
       "12     109  101.641689\n",
       "13       5  101.233137\n",
       "14     182  101.586997\n",
       "15      74  101.565022\n",
       "16     139  101.604669\n",
       "17      65   97.657890\n",
       "18      24  101.288763\n",
       "19      57  101.595114\n",
       "20      13  101.334772\n",
       "21      16  101.185661\n",
       "22       9   97.960577\n",
       "23     178  101.610663\n",
       "24      28  100.890123\n",
       "25     168  101.659239\n",
       "26      67   98.365551\n",
       "27      82  101.552330\n",
       "28      62  101.380707\n",
       "29     161  101.618258"
      ]
     },
     "execution_count": 36,
     "metadata": {},
     "output_type": "execute_result"
    }
   ],
   "source": [
    "# Create a dataframe comparing the actual and predicted values of yy.\n",
    "\n",
    "data = pd.DataFrame({'Actual': yy_test.flatten(), 'Predicted': yy_predicted.flatten()})\n",
    "data.head(30)"
   ]
  },
  {
   "cell_type": "code",
   "execution_count": 62,
   "id": "11e3ff7b",
   "metadata": {},
   "outputs": [
    {
     "data": {
      "text/html": [
       "<div>\n",
       "<style scoped>\n",
       "    .dataframe tbody tr th:only-of-type {\n",
       "        vertical-align: middle;\n",
       "    }\n",
       "\n",
       "    .dataframe tbody tr th {\n",
       "        vertical-align: top;\n",
       "    }\n",
       "\n",
       "    .dataframe thead th {\n",
       "        text-align: right;\n",
       "    }\n",
       "</style>\n",
       "<table border=\"1\" class=\"dataframe\">\n",
       "  <thead>\n",
       "    <tr style=\"text-align: right;\">\n",
       "      <th></th>\n",
       "      <th>Actual</th>\n",
       "      <th>Predicted</th>\n",
       "    </tr>\n",
       "  </thead>\n",
       "  <tbody>\n",
       "    <tr>\n",
       "      <th>0</th>\n",
       "      <td>0.608</td>\n",
       "      <td>0.753092</td>\n",
       "    </tr>\n",
       "    <tr>\n",
       "      <th>1</th>\n",
       "      <td>0.296</td>\n",
       "      <td>0.480173</td>\n",
       "    </tr>\n",
       "    <tr>\n",
       "      <th>2</th>\n",
       "      <td>0.731</td>\n",
       "      <td>0.618310</td>\n",
       "    </tr>\n",
       "    <tr>\n",
       "      <th>3</th>\n",
       "      <td>0.608</td>\n",
       "      <td>0.753092</td>\n",
       "    </tr>\n",
       "    <tr>\n",
       "      <th>4</th>\n",
       "      <td>0.674</td>\n",
       "      <td>0.572593</td>\n",
       "    </tr>\n",
       "    <tr>\n",
       "      <th>5</th>\n",
       "      <td>0.788</td>\n",
       "      <td>0.648506</td>\n",
       "    </tr>\n",
       "    <tr>\n",
       "      <th>6</th>\n",
       "      <td>0.915</td>\n",
       "      <td>0.827842</td>\n",
       "    </tr>\n",
       "    <tr>\n",
       "      <th>7</th>\n",
       "      <td>0.608</td>\n",
       "      <td>0.753092</td>\n",
       "    </tr>\n",
       "    <tr>\n",
       "      <th>8</th>\n",
       "      <td>0.687</td>\n",
       "      <td>0.534122</td>\n",
       "    </tr>\n",
       "    <tr>\n",
       "      <th>9</th>\n",
       "      <td>0.716</td>\n",
       "      <td>0.568835</td>\n",
       "    </tr>\n",
       "    <tr>\n",
       "      <th>10</th>\n",
       "      <td>0.819</td>\n",
       "      <td>0.794471</td>\n",
       "    </tr>\n",
       "    <tr>\n",
       "      <th>11</th>\n",
       "      <td>0.546</td>\n",
       "      <td>0.461296</td>\n",
       "    </tr>\n",
       "    <tr>\n",
       "      <th>12</th>\n",
       "      <td>0.630</td>\n",
       "      <td>0.682548</td>\n",
       "    </tr>\n",
       "    <tr>\n",
       "      <th>13</th>\n",
       "      <td>0.705</td>\n",
       "      <td>0.777472</td>\n",
       "    </tr>\n",
       "    <tr>\n",
       "      <th>14</th>\n",
       "      <td>0.427</td>\n",
       "      <td>0.384667</td>\n",
       "    </tr>\n",
       "    <tr>\n",
       "      <th>15</th>\n",
       "      <td>0.494</td>\n",
       "      <td>0.457404</td>\n",
       "    </tr>\n",
       "    <tr>\n",
       "      <th>16</th>\n",
       "      <td>0.723</td>\n",
       "      <td>0.718648</td>\n",
       "    </tr>\n",
       "    <tr>\n",
       "      <th>17</th>\n",
       "      <td>0.693</td>\n",
       "      <td>0.564049</td>\n",
       "    </tr>\n",
       "    <tr>\n",
       "      <th>18</th>\n",
       "      <td>0.744</td>\n",
       "      <td>0.617774</td>\n",
       "    </tr>\n",
       "    <tr>\n",
       "      <th>19</th>\n",
       "      <td>0.677</td>\n",
       "      <td>0.717753</td>\n",
       "    </tr>\n",
       "    <tr>\n",
       "      <th>20</th>\n",
       "      <td>0.729</td>\n",
       "      <td>0.664118</td>\n",
       "    </tr>\n",
       "    <tr>\n",
       "      <th>21</th>\n",
       "      <td>0.673</td>\n",
       "      <td>0.625736</td>\n",
       "    </tr>\n",
       "    <tr>\n",
       "      <th>22</th>\n",
       "      <td>0.594</td>\n",
       "      <td>0.624663</td>\n",
       "    </tr>\n",
       "    <tr>\n",
       "      <th>23</th>\n",
       "      <td>0.885</td>\n",
       "      <td>0.768660</td>\n",
       "    </tr>\n",
       "    <tr>\n",
       "      <th>24</th>\n",
       "      <td>0.309</td>\n",
       "      <td>0.421886</td>\n",
       "    </tr>\n",
       "    <tr>\n",
       "      <th>25</th>\n",
       "      <td>0.864</td>\n",
       "      <td>0.669799</td>\n",
       "    </tr>\n",
       "    <tr>\n",
       "      <th>26</th>\n",
       "      <td>0.431</td>\n",
       "      <td>0.538282</td>\n",
       "    </tr>\n",
       "    <tr>\n",
       "      <th>27</th>\n",
       "      <td>0.597</td>\n",
       "      <td>0.706301</td>\n",
       "    </tr>\n",
       "    <tr>\n",
       "      <th>28</th>\n",
       "      <td>0.337</td>\n",
       "      <td>0.455481</td>\n",
       "    </tr>\n",
       "    <tr>\n",
       "      <th>29</th>\n",
       "      <td>0.800</td>\n",
       "      <td>0.649669</td>\n",
       "    </tr>\n",
       "  </tbody>\n",
       "</table>\n",
       "</div>"
      ],
      "text/plain": [
       "    Actual  Predicted\n",
       "0    0.608   0.753092\n",
       "1    0.296   0.480173\n",
       "2    0.731   0.618310\n",
       "3    0.608   0.753092\n",
       "4    0.674   0.572593\n",
       "5    0.788   0.648506\n",
       "6    0.915   0.827842\n",
       "7    0.608   0.753092\n",
       "8    0.687   0.534122\n",
       "9    0.716   0.568835\n",
       "10   0.819   0.794471\n",
       "11   0.546   0.461296\n",
       "12   0.630   0.682548\n",
       "13   0.705   0.777472\n",
       "14   0.427   0.384667\n",
       "15   0.494   0.457404\n",
       "16   0.723   0.718648\n",
       "17   0.693   0.564049\n",
       "18   0.744   0.617774\n",
       "19   0.677   0.717753\n",
       "20   0.729   0.664118\n",
       "21   0.673   0.625736\n",
       "22   0.594   0.624663\n",
       "23   0.885   0.768660\n",
       "24   0.309   0.421886\n",
       "25   0.864   0.669799\n",
       "26   0.431   0.538282\n",
       "27   0.597   0.706301\n",
       "28   0.337   0.455481\n",
       "29   0.800   0.649669"
      ]
     },
     "execution_count": 62,
     "metadata": {},
     "output_type": "execute_result"
    }
   ],
   "source": [
    "# Create a dataframe comparing the actual and predicted values of y.\n",
    "\n",
    "data = pd.DataFrame({'Actual': y3_test.flatten(), 'Predicted': y3_predicted.flatten()})\n",
    "data.head(30)"
   ]
  },
  {
   "cell_type": "code",
   "execution_count": 51,
   "id": "61dc03d8",
   "metadata": {},
   "outputs": [
    {
     "data": {
      "text/html": [
       "<div>\n",
       "<style scoped>\n",
       "    .dataframe tbody tr th:only-of-type {\n",
       "        vertical-align: middle;\n",
       "    }\n",
       "\n",
       "    .dataframe tbody tr th {\n",
       "        vertical-align: top;\n",
       "    }\n",
       "\n",
       "    .dataframe thead th {\n",
       "        text-align: right;\n",
       "    }\n",
       "</style>\n",
       "<table border=\"1\" class=\"dataframe\">\n",
       "  <thead>\n",
       "    <tr style=\"text-align: right;\">\n",
       "      <th></th>\n",
       "      <th>Actual</th>\n",
       "      <th>Predicted</th>\n",
       "    </tr>\n",
       "  </thead>\n",
       "  <tbody>\n",
       "    <tr>\n",
       "      <th>0</th>\n",
       "      <td>6.0</td>\n",
       "      <td>18.767877</td>\n",
       "    </tr>\n",
       "    <tr>\n",
       "      <th>1</th>\n",
       "      <td>175.0</td>\n",
       "      <td>168.067904</td>\n",
       "    </tr>\n",
       "    <tr>\n",
       "      <th>2</th>\n",
       "      <td>108.0</td>\n",
       "      <td>101.203475</td>\n",
       "    </tr>\n",
       "    <tr>\n",
       "      <th>3</th>\n",
       "      <td>3.0</td>\n",
       "      <td>6.860513</td>\n",
       "    </tr>\n",
       "    <tr>\n",
       "      <th>4</th>\n",
       "      <td>153.0</td>\n",
       "      <td>173.563610</td>\n",
       "    </tr>\n",
       "    <tr>\n",
       "      <th>5</th>\n",
       "      <td>120.0</td>\n",
       "      <td>123.186301</td>\n",
       "    </tr>\n",
       "    <tr>\n",
       "      <th>6</th>\n",
       "      <td>184.0</td>\n",
       "      <td>187.302876</td>\n",
       "    </tr>\n",
       "    <tr>\n",
       "      <th>7</th>\n",
       "      <td>7.0</td>\n",
       "      <td>7.776464</td>\n",
       "    </tr>\n",
       "    <tr>\n",
       "      <th>8</th>\n",
       "      <td>193.0</td>\n",
       "      <td>168.983855</td>\n",
       "    </tr>\n",
       "    <tr>\n",
       "      <th>9</th>\n",
       "      <td>108.0</td>\n",
       "      <td>147.001029</td>\n",
       "    </tr>\n",
       "    <tr>\n",
       "      <th>10</th>\n",
       "      <td>122.0</td>\n",
       "      <td>113.110839</td>\n",
       "    </tr>\n",
       "    <tr>\n",
       "      <th>11</th>\n",
       "      <td>103.0</td>\n",
       "      <td>108.531083</td>\n",
       "    </tr>\n",
       "    <tr>\n",
       "      <th>12</th>\n",
       "      <td>35.0</td>\n",
       "      <td>65.481383</td>\n",
       "    </tr>\n",
       "    <tr>\n",
       "      <th>13</th>\n",
       "      <td>75.0</td>\n",
       "      <td>95.707768</td>\n",
       "    </tr>\n",
       "    <tr>\n",
       "      <th>14</th>\n",
       "      <td>16.0</td>\n",
       "      <td>16.935975</td>\n",
       "    </tr>\n",
       "    <tr>\n",
       "      <th>15</th>\n",
       "      <td>16.0</td>\n",
       "      <td>19.683829</td>\n",
       "    </tr>\n",
       "    <tr>\n",
       "      <th>16</th>\n",
       "      <td>43.0</td>\n",
       "      <td>41.666654</td>\n",
       "    </tr>\n",
       "    <tr>\n",
       "      <th>17</th>\n",
       "      <td>187.0</td>\n",
       "      <td>175.395512</td>\n",
       "    </tr>\n",
       "    <tr>\n",
       "      <th>18</th>\n",
       "      <td>26.0</td>\n",
       "      <td>34.339046</td>\n",
       "    </tr>\n",
       "    <tr>\n",
       "      <th>19</th>\n",
       "      <td>112.0</td>\n",
       "      <td>32.507144</td>\n",
       "    </tr>\n",
       "    <tr>\n",
       "      <th>20</th>\n",
       "      <td>182.0</td>\n",
       "      <td>177.227415</td>\n",
       "    </tr>\n",
       "    <tr>\n",
       "      <th>21</th>\n",
       "      <td>116.0</td>\n",
       "      <td>102.119426</td>\n",
       "    </tr>\n",
       "    <tr>\n",
       "      <th>22</th>\n",
       "      <td>148.0</td>\n",
       "      <td>141.505322</td>\n",
       "    </tr>\n",
       "    <tr>\n",
       "      <th>23</th>\n",
       "      <td>79.0</td>\n",
       "      <td>49.910214</td>\n",
       "    </tr>\n",
       "    <tr>\n",
       "      <th>24</th>\n",
       "      <td>77.0</td>\n",
       "      <td>85.632306</td>\n",
       "    </tr>\n",
       "    <tr>\n",
       "      <th>25</th>\n",
       "      <td>34.0</td>\n",
       "      <td>36.170948</td>\n",
       "    </tr>\n",
       "    <tr>\n",
       "      <th>26</th>\n",
       "      <td>89.0</td>\n",
       "      <td>92.959915</td>\n",
       "    </tr>\n",
       "    <tr>\n",
       "      <th>27</th>\n",
       "      <td>158.0</td>\n",
       "      <td>142.421273</td>\n",
       "    </tr>\n",
       "    <tr>\n",
       "      <th>28</th>\n",
       "      <td>147.0</td>\n",
       "      <td>147.916980</td>\n",
       "    </tr>\n",
       "    <tr>\n",
       "      <th>29</th>\n",
       "      <td>171.0</td>\n",
       "      <td>131.429860</td>\n",
       "    </tr>\n",
       "  </tbody>\n",
       "</table>\n",
       "</div>"
      ],
      "text/plain": [
       "    Actual   Predicted\n",
       "0      6.0   18.767877\n",
       "1    175.0  168.067904\n",
       "2    108.0  101.203475\n",
       "3      3.0    6.860513\n",
       "4    153.0  173.563610\n",
       "5    120.0  123.186301\n",
       "6    184.0  187.302876\n",
       "7      7.0    7.776464\n",
       "8    193.0  168.983855\n",
       "9    108.0  147.001029\n",
       "10   122.0  113.110839\n",
       "11   103.0  108.531083\n",
       "12    35.0   65.481383\n",
       "13    75.0   95.707768\n",
       "14    16.0   16.935975\n",
       "15    16.0   19.683829\n",
       "16    43.0   41.666654\n",
       "17   187.0  175.395512\n",
       "18    26.0   34.339046\n",
       "19   112.0   32.507144\n",
       "20   182.0  177.227415\n",
       "21   116.0  102.119426\n",
       "22   148.0  141.505322\n",
       "23    79.0   49.910214\n",
       "24    77.0   85.632306\n",
       "25    34.0   36.170948\n",
       "26    89.0   92.959915\n",
       "27   158.0  142.421273\n",
       "28   147.0  147.916980\n",
       "29   171.0  131.429860"
      ]
     },
     "execution_count": 51,
     "metadata": {},
     "output_type": "execute_result"
    }
   ],
   "source": [
    "# Create a dataframe comparing the actual and predicted values of y.\n",
    "\n",
    "data = pd.DataFrame({'Actual': y4_test.flatten(), 'Predicted': y4_predicted.flatten()})\n",
    "data.head(30)"
   ]
  },
  {
   "cell_type": "markdown",
   "id": "5b8961c2",
   "metadata": {},
   "source": [
    "#### Comparing how the regression fits the training set"
   ]
  },
  {
   "cell_type": "code",
   "execution_count": 37,
   "id": "3eb67cd1",
   "metadata": {},
   "outputs": [],
   "source": [
    "# Predict.\n",
    "\n",
    "y_predicted_train = regression.predict(X_train) # This is predicting X_train!"
   ]
  },
  {
   "cell_type": "code",
   "execution_count": 45,
   "id": "4d0f375d",
   "metadata": {},
   "outputs": [],
   "source": [
    "rmse_train = mean_squared_error(y_train, y_predicted_train)\n",
    "r2_train = r2_score(y_train, y_predicted_train)"
   ]
  },
  {
   "cell_type": "code",
   "execution_count": 50,
   "id": "858b3231",
   "metadata": {},
   "outputs": [
    {
     "name": "stdout",
     "output_type": "stream",
     "text": [
      "Slope: [[-3.67776509e-06]]\n",
      "Mean squared error:  5872.036195837389\n",
      "R2 score:  -1.8194857365136814\n"
     ]
    }
   ],
   "source": [
    "print('Slope:' ,regression.coef_)\n",
    "print('Mean squared error: ', rmse_train)\n",
    "print('R2 score: ', r2_train)"
   ]
  },
  {
   "cell_type": "code",
   "execution_count": 43,
   "id": "e8499e3c",
   "metadata": {},
   "outputs": [
    {
     "data": {
      "image/png": "[encoded data removed]",
      "text/plain": [
       "<Figure size 432x288 with 1 Axes>"
      ]
     },
     "metadata": {
      "needs_background": "light"
     },
     "output_type": "display_data"
    }
   ],
   "source": [
    "# Create a plot that shows the regression line from the model on the train set.\n",
    "\n",
    "plot_test = plt\n",
    "plot_test.scatter(X_train, y_train, color='blue', s = 15)\n",
    "plot_test.plot(X_train, y_predicted_train, color='red', linewidth =3)\n",
    "plot_test.title('Peak Rank vs Weeks on Chart (Train set)')\n",
    "plot_test.xlabel('Weeks on Chart')\n",
    "plot_test.ylabel('Peak Rank')\n",
    "plot_test.show()"
   ]
  },
  {
   "cell_type": "code",
   "execution_count": 38,
   "id": "3345612e",
   "metadata": {},
   "outputs": [],
   "source": [
    "# Predict.\n",
    "\n",
    "yy_predicted_train = regression.predict(Xx_train) # This is predicting Xx_train!"
   ]
  },
  {
   "cell_type": "code",
   "execution_count": 47,
   "id": "41eb0aaf",
   "metadata": {},
   "outputs": [],
   "source": [
    "rmse_train_2 = mean_squared_error(yy_train, yy_predicted_train)\n",
    "r2_train_2 = r2_score(yy_train, yy_predicted_train)"
   ]
  },
  {
   "cell_type": "code",
   "execution_count": 48,
   "id": "db15b66f",
   "metadata": {},
   "outputs": [
    {
     "name": "stdout",
     "output_type": "stream",
     "text": [
      "Slope: [[-3.67776509e-06]]\n",
      "Mean squared error:  3258.3153352793192\n",
      "R2 score:  0.022863487607578503\n"
     ]
    }
   ],
   "source": [
    "print('Slope:' ,regression.coef_)\n",
    "print('Mean squared error: ', rmse_train_2)\n",
    "print('R2 score: ', r2_train_2)"
   ]
  },
  {
   "cell_type": "code",
   "execution_count": 49,
   "id": "3ff4cf45",
   "metadata": {},
   "outputs": [
    {
     "data": {
      "image/png": "[encoded data removed]",
      "text/plain": [
       "<Figure size 432x288 with 1 Axes>"
      ]
     },
     "metadata": {
      "needs_background": "light"
     },
     "output_type": "display_data"
    }
   ],
   "source": [
    "# Create a plot that shows the regression line from the model on the train set.\n",
    "\n",
    "plot_test = plt\n",
    "plot_test.scatter(Xx_train, yy_train, color='blue', s = 15)\n",
    "plot_test.plot(Xx_train, yy_predicted_train, color='red', linewidth =3)\n",
    "plot_test.title('Rank vs Weekly Streams (Train set)')\n",
    "plot_test.xlabel('Weekly Streams')\n",
    "plot_test.ylabel('Rank')\n",
    "plot_test.show()"
   ]
  },
  {
   "cell_type": "code",
   "execution_count": 63,
   "id": "a4ade01e",
   "metadata": {},
   "outputs": [],
   "source": [
    "# Predict.\n",
    "\n",
    "y3_predicted_train = regression.predict(X3_train) # This is predicting X3_train!"
   ]
  },
  {
   "cell_type": "code",
   "execution_count": 64,
   "id": "efd61519",
   "metadata": {},
   "outputs": [],
   "source": [
    "rmse_train_3 = mean_squared_error(y3_train, y3_predicted_train)\n",
    "r2_train_3 = r2_score(y3_train, y3_predicted_train)"
   ]
  },
  {
   "cell_type": "code",
   "execution_count": 65,
   "id": "0532fd5f",
   "metadata": {},
   "outputs": [
    {
     "name": "stdout",
     "output_type": "stream",
     "text": [
      "Slope: [[0.04473348]]\n",
      "Mean squared error:  0.01301846396726071\n",
      "R2 score:  0.4672074592934504\n"
     ]
    }
   ],
   "source": [
    "print('Slope:' ,regression.coef_)\n",
    "print('Mean squared error: ', rmse_train_3)\n",
    "print('R2 score: ', r2_train_3)"
   ]
  },
  {
   "cell_type": "code",
   "execution_count": 67,
   "id": "0ef25a27",
   "metadata": {},
   "outputs": [
    {
     "data": {
      "image/png": "[encoded data removed]",
      "text/plain": [
       "<Figure size 432x288 with 1 Axes>"
      ]
     },
     "metadata": {
      "needs_background": "light"
     },
     "output_type": "display_data"
    }
   ],
   "source": [
    "# Create a plot that shows the regression line from the model on the train set.\n",
    "\n",
    "plot_test = plt\n",
    "plot_test.scatter(X3_train, y3_train, color='blue', s = 15)\n",
    "plot_test.plot(X3_train, y3_predicted_train, color='red', linewidth =3)\n",
    "plot_test.title('Loudness vs Energy (Train set)')\n",
    "plot_test.xlabel('Loudness')\n",
    "plot_test.ylabel('Energy')\n",
    "plot_test.show()"
   ]
  },
  {
   "cell_type": "code",
   "execution_count": 52,
   "id": "2d696db9",
   "metadata": {},
   "outputs": [],
   "source": [
    "# Predict.\n",
    "\n",
    "y4_predicted_train = regression.predict(X4_train) # This is predicting X4_train!"
   ]
  },
  {
   "cell_type": "code",
   "execution_count": 53,
   "id": "58b428c6",
   "metadata": {},
   "outputs": [],
   "source": [
    "rmse_train_4 = mean_squared_error(y4_train, y4_predicted_train)\n",
    "r2_train_4 = r2_score(y4_train, y4_predicted_train)"
   ]
  },
  {
   "cell_type": "code",
   "execution_count": 54,
   "id": "9bd51feb",
   "metadata": {},
   "outputs": [
    {
     "name": "stdout",
     "output_type": "stream",
     "text": [
      "Slope: [[0.91595108]]\n",
      "Mean squared error:  350.972330265138\n",
      "R2 score:  0.8842731600020485\n"
     ]
    }
   ],
   "source": [
    "print('Slope:' ,regression.coef_)\n",
    "print('Mean squared error: ', rmse_train_4)\n",
    "print('R2 score: ', r2_train_4)"
   ]
  },
  {
   "cell_type": "code",
   "execution_count": 55,
   "id": "8b255583",
   "metadata": {},
   "outputs": [
    {
     "data": {
      "image/png": "[encoded data removed]",
      "text/plain": [
       "<Figure size 432x288 with 1 Axes>"
      ]
     },
     "metadata": {
      "needs_background": "light"
     },
     "output_type": "display_data"
    }
   ],
   "source": [
    "# Create a plot that shows the regression line from the model on the train set.\n",
    "\n",
    "plot_test = plt\n",
    "plot_test.scatter(X4_train, y4_train, color='blue', s = 15)\n",
    "plot_test.plot(X4_train, y4_predicted_train, color='red', linewidth =3)\n",
    "plot_test.title('Rank vs Previous Rank (Train set)')\n",
    "plot_test.xlabel('Rank')\n",
    "plot_test.ylabel('Previous Rank')\n",
    "plot_test.show()"
   ]
  }
 ],
 "metadata": {
  "kernelspec": {
   "display_name": "Python 3 (ipykernel)",
   "language": "python",
   "name": "python3"
  },
  "language_info": {
   "codemirror_mode": {
    "name": "ipython",
    "version": 3
   },
   "file_extension": ".py",
   "mimetype": "text/x-python",
   "name": "python",
   "nbconvert_exporter": "python",
   "pygments_lexer": "ipython3",
   "version": "3.9.12"
  }
 },
 "nbformat": 4,
 "nbformat_minor": 5
}
